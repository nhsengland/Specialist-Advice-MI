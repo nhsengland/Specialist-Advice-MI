{
 "cells": [
  {
   "cell_type": "code",
   "execution_count": 0,
   "metadata": {
    "application/vnd.databricks.v1+cell": {
     "cellMetadata": {
      "byteLimit": 2048000,
      "rowLimit": 10000
     },
     "inputWidgets": {},
     "nuid": "b030578c-a5de-41a4-be63-297292834b07",
     "showTitle": false,
     "tableResultSettingsMap": {},
     "title": ""
    }
   },
   "outputs": [],
   "source": [
    "#importing the tools\n",
    "from env import env\n",
    "from src import utils, excel\n",
    "\n",
    "import openpyxl\n",
    "import pandas as pd\n",
    "\n",
    "from pyspark.sql import functions as F\n",
    "from datetime import datetime\n",
    "from pyspark.sql.functions import date_format\n",
    "from openpyxl.styles import NamedStyle"
   ]
  },
  {
   "cell_type": "code",
   "execution_count": 0,
   "metadata": {
    "application/vnd.databricks.v1+cell": {
     "cellMetadata": {
      "byteLimit": 2048000,
      "rowLimit": 10000
     },
     "inputWidgets": {},
     "nuid": "92405221-6d9b-4664-b07e-2092f8a008d8",
     "showTitle": false,
     "tableResultSettingsMap": {},
     "title": ""
    }
   },
   "outputs": [],
   "source": [
    "# Load the SA data\n",
    "df_raw_sa = spark.read.option(\"header\",\"true\").option(\"recursiveFileLookup\",\"true\").parquet(env[\"spec_advi_path\"])\n",
    "wb = openpyxl.load_workbook('UK template.xlsx')\n",
    "report_start = 'April 2022 to '\n",
    "\n",
    "#display (spec_advi_path)\n",
    "df_raw_sa.display()\n",
    "\n",
    "publishing_month = df_raw_sa.select(F.max(\"EROC_DerMonth\")).collect()[0][0]\n",
    "publishing_month = datetime.strptime(publishing_month, '%Y-%m-%d')\n",
    "publishing_month = publishing_month.strftime(\"%B %Y\")\n",
    "date_header = (report_start + publishing_month) \n",
    "\n",
    "#print(date_header)"
   ]
  },
  {
   "cell_type": "code",
   "execution_count": 0,
   "metadata": {
    "application/vnd.databricks.v1+cell": {
     "cellMetadata": {
      "byteLimit": 2048000,
      "rowLimit": 10000
     },
     "inputWidgets": {},
     "nuid": "d2ebae8b-8703-4111-9e75-49d584d07c12",
     "showTitle": false,
     "tableResultSettingsMap": {},
     "title": ""
    }
   },
   "outputs": [],
   "source": [
    "#Creating data frames for the all types SA england level sheet \n",
    "\n",
    "df_all_types_total = (df_raw_sa\n",
    " .where(F.col(\"EROC_DerMonth\") >= '2022-04-01')\n",
    " .groupBy(\n",
    "     \"EROC_DerMonth\")\n",
    " .agg(F.sum(\"EROC_Requests\").alias(\"Total Requests\"))\n",
    " .orderBy(\"EROC_DerMonth\")\n",
    ")\n",
    "#display(df_all_types_total)\n",
    "df_all_types_processed = (df_raw_sa\n",
    "    .where(F.col(\"EROC_DerMonth\") >= '2022-04-01')\n",
    "    .where(F.col(\"EROC_DerStatus\") !=2)\n",
    "    .where(F.col(\"EROC_DerOutcome\") != 40)\n",
    "    .groupBy(\n",
    "     \"EROC_DerMonth\")\n",
    "    .agg(F.sum(\"EROC_Requests\").alias(\"Processed Requests\"))\n",
    "    .orderBy(\"EROC_DerMonth\")\n",
    ")\n",
    "#df_all_types_processed = df_all_types_processed.drop(\"EROC_DerMonth\")\n",
    "\n",
    "df_all_types_diverted = (df_raw_sa\n",
    "    .where(F.col(\"EROC_DerMonth\") >= '2022-04-01')\n",
    "    .where(F.col(\"EROC_DerStatus\") !=2)\n",
    "    .where(F.col(\"EROC_DerOutcome\").isin (10,12))\n",
    "    .groupBy(\"EROC_DerMonth\")\n",
    "    .agg(F.sum(\"EROC_Requests\").alias(\"Diverted Requests\"))\n",
    "    .orderBy(\"EROC_DerMonth\")\n",
    ")\n",
    "#df_all_types_diverted = df_all_types_diverted.drop(\"EROC_DerMonth\")\n",
    "#display(df_all_types_diverted)\n",
    " "
   ]
  },
  {
   "cell_type": "code",
   "execution_count": 0,
   "metadata": {
    "application/vnd.databricks.v1+cell": {
     "cellMetadata": {
      "byteLimit": 2048000,
      "rowLimit": 10000
     },
     "inputWidgets": {},
     "nuid": "6f8e4806-7ed1-46d8-ae6a-32b3a80462bc",
     "showTitle": false,
     "tableResultSettingsMap": {},
     "title": ""
    }
   },
   "outputs": [],
   "source": [
    "#Creating data frames for the pre referral SA england level sheet \n",
    "\n",
    "df_prereferral_total = (df_raw_sa\n",
    " .where(F.col(\"EROC_DerMonth\") >= '2022-04-01')\n",
    " .where(F.col(\"EROC_DerTypeOfSpecialistAdvice\") == 1)\n",
    " .groupBy(\n",
    "     \"EROC_DerMonth\")\n",
    " .agg(F.sum(\"EROC_Requests\").alias(\"Total Requests\"))\n",
    " .orderBy(\"EROC_DerMonth\")\n",
    " )\n",
    "#df_prereferral_total = df_prereferral_total.drop(\"EROC_DerMonth\")\n",
    "#display(df_prereferral_total)\n",
    "\n",
    "df_prereferral_processed = (df_raw_sa\n",
    "    .where(F.col(\"EROC_DerMonth\") >= '2022-04-01')\n",
    "    .where(F.col(\"EROC_DerTypeOfSpecialistAdvice\") == 1)                      \n",
    "    .where(F.col(\"EROC_DerStatus\") !=2)\n",
    "    .where(F.col(\"EROC_DerOutcome\") != 40)\n",
    "    .groupBy(\n",
    "     \"EROC_DerMonth\")\n",
    "    .agg(F.sum(\"EROC_Requests\").alias(\"Processed Requests\"))\n",
    "    .orderBy(\"EROC_DerMonth\")\n",
    ")\n",
    "#df_prereferral_processed = df_prereferral_processed.drop(\"EROC_DerMonth\")\n",
    "#display(df_prereferral_processed)\n",
    "df_prereferral_diverted = (df_raw_sa\n",
    "    .where(F.col(\"EROC_DerMonth\") >= '2022-04-01')\n",
    "    .where(F.col(\"EROC_DerTypeOfSpecialistAdvice\") == 1)\n",
    "    .where(F.col(\"EROC_DerStatus\") !=2)\n",
    "    .where(F.col(\"EROC_DerOutcome\").isin (10,12))\n",
    "    .groupBy(\"EROC_DerMonth\")\n",
    "    .agg(F.sum(\"EROC_Requests\").alias(\"Diverted Requests\"))\n",
    "    .orderBy(\"EROC_DerMonth\")\n",
    ")\n",
    "#df_prereferral_diverted = df_prereferral_diverted.drop(\"EROC_DerMonth\")\n",
    "#display(df_prereferral_diverted)"
   ]
  },
  {
   "cell_type": "code",
   "execution_count": 0,
   "metadata": {
    "application/vnd.databricks.v1+cell": {
     "cellMetadata": {
      "byteLimit": 2048000,
      "rowLimit": 10000
     },
     "inputWidgets": {},
     "nuid": "49040940-c2fa-468f-a3ac-7f864a3bc60e",
     "showTitle": false,
     "tableResultSettingsMap": {},
     "title": ""
    }
   },
   "outputs": [],
   "source": [
    "#Creating data frames for the post referral SA england level sheet \n",
    "\n",
    "df_post_referral_total = (df_raw_sa\n",
    " .where(F.col(\"EROC_DerMonth\") >= '2022-04-01')\n",
    " .where(F.col(\"EROC_DerTypeOfSpecialistAdvice\") == 2)\n",
    " .groupBy(\n",
    "     \"EROC_DerMonth\")\n",
    " .agg(F.sum(\"EROC_Requests\").alias(\"Total Requests\"))\n",
    " .orderBy(\"EROC_DerMonth\")\n",
    " )\n",
    "#df_post_referral_total = df_post_referral_total.drop(\"EROC_DerMonth\")\n",
    "#display(df_post_referral_total)\n",
    "\n",
    "df_post_referral_processed = (df_raw_sa\n",
    "    .where(F.col(\"EROC_DerMonth\") >= '2022-04-01')\n",
    "    .where(F.col(\"EROC_DerTypeOfSpecialistAdvice\") == 2)                      \n",
    "    .where(F.col(\"EROC_DerStatus\") !=2)\n",
    "    .where(F.col(\"EROC_DerOutcome\") != 40)\n",
    "    .groupBy(\n",
    "     \"EROC_DerMonth\")\n",
    "    .agg(F.sum(\"EROC_Requests\").alias(\"Processed Requests\"))\n",
    "    .orderBy(\"EROC_DerMonth\")\n",
    ")\n",
    "#df_post_referral_processed = df_post_referral_processed.drop(\"EROC_DerMonth\")\n",
    "#display(df_post_referral_processed)\n",
    "\n",
    "df_post_referral_diverted = (df_raw_sa\n",
    "    .where(F.col(\"EROC_DerMonth\") >= '2022-04-01')\n",
    "    .where(F.col(\"EROC_DerTypeOfSpecialistAdvice\") == 2)\n",
    "    .where(F.col(\"EROC_DerStatus\") !=2)\n",
    "    .where(F.col(\"EROC_DerOutcome\").isin (10,12))\n",
    "    .groupBy(\"EROC_DerMonth\")\n",
    "    .agg(F.sum(\"EROC_Requests\").alias(\"Diverted Requests\"))\n",
    "    .orderBy(\"EROC_DerMonth\")\n",
    ")\n",
    "#df_post_referral_diverted = df_post_referral_diverted.drop(\"EROC_DerMonth\")\n",
    "#display(df_post_referral_diverted)"
   ]
  },
  {
   "cell_type": "code",
   "execution_count": 0,
   "metadata": {
    "application/vnd.databricks.v1+cell": {
     "cellMetadata": {
      "byteLimit": 2048000,
      "rowLimit": 10000
     },
     "inputWidgets": {},
     "nuid": "95d5aa06-c119-493f-aec8-edb7d1db73ef",
     "showTitle": false,
     "tableResultSettingsMap": {},
     "title": ""
    }
   },
   "outputs": [],
   "source": [
    "#Creating data frames for the other types of SA england level sheet \n",
    "\n",
    "df_other_types_total = (df_raw_sa\n",
    " .where(F.col(\"EROC_DerMonth\") >= '2022-04-01')\n",
    " .where(F.col(\"EROC_DerTypeOfSpecialistAdvice\") == 99)\n",
    " .groupBy(\n",
    "     \"EROC_DerMonth\")\n",
    " .agg(F.sum(\"EROC_Requests\").alias(\"Total Requests\"))\n",
    " .orderBy(\"EROC_DerMonth\")\n",
    " )\n",
    "\n",
    "#df_other_types_total = df_other_types_total.drop(\"EROC_DerMonth\")\n",
    "#display(df_other_types_total)\n",
    "\n",
    "df_other_types_processed = (df_raw_sa\n",
    "    .where(F.col(\"EROC_DerMonth\") >= '2022-04-01')\n",
    "    .where(F.col(\"EROC_DerTypeOfSpecialistAdvice\") == 99)                      \n",
    "    .where(F.col(\"EROC_DerStatus\") !=2)\n",
    "    .where(F.col(\"EROC_DerOutcome\") != 40)\n",
    "    .groupBy(\n",
    "     \"EROC_DerMonth\")\n",
    "    .agg(F.sum(\"EROC_Requests\").alias(\"Processed Requests\"))\n",
    "    .orderBy(\"EROC_DerMonth\")\n",
    ")\n",
    "\n",
    "#df_other_types_processed = df_other_types_processed.drop(\"EROC_DerMonth\")\n",
    "#display(df_other_types_processed)\n",
    "\n",
    "df_other_types_diverted = (df_raw_sa\n",
    "    .where(F.col(\"EROC_DerTypeOfSpecialistAdvice\") == 99)\n",
    "    .where(F.col(\"EROC_DerStatus\") !=2)\n",
    "    .where(F.col(\"EROC_DerOutcome\").isin (10,12))\n",
    "    .groupBy(\"EROC_DerMonth\")\n",
    "    .agg(F.sum(\"EROC_Requests\").alias(\"Diverted Requests\"))\n",
    "    .orderBy(\"EROC_DerMonth\")\n",
    ")\n",
    "\n",
    "#df_other_types_diverted = df_other_types_diverted.drop(\"EROC_DerMonth\")\n",
    "#display(df_other_types_diverted)"
   ]
  },
  {
   "cell_type": "code",
   "execution_count": 0,
   "metadata": {
    "application/vnd.databricks.v1+cell": {
     "cellMetadata": {
      "byteLimit": 2048000,
      "rowLimit": 10000
     },
     "inputWidgets": {},
     "nuid": "15082c95-2eda-486f-969a-eaec8707b2ce",
     "showTitle": false,
     "tableResultSettingsMap": {},
     "title": ""
    }
   },
   "outputs": [],
   "source": [
    "# Joining All Types Spec Adv dataframes by 'EROC_DerMonth'\n",
    "\n",
    "df_all_types_combined = df_all_types_total \\\n",
    "    .join(df_all_types_processed, on=\"EROC_DerMonth\", how=\"left\") \\\n",
    "    .join(df_all_types_diverted, on=\"EROC_DerMonth\", how=\"left\")\n",
    "    \n",
    "df_all_types_combined = df_all_types_combined.orderBy(\"EROC_DerMonth\")\n",
    "\n",
    "#display(df_all_types_combined)"
   ]
  },
  {
   "cell_type": "code",
   "execution_count": 0,
   "metadata": {
    "application/vnd.databricks.v1+cell": {
     "cellMetadata": {
      "byteLimit": 2048000,
      "rowLimit": 10000
     },
     "inputWidgets": {},
     "nuid": "7ad23da6-07d0-4e2a-839f-10987625cd90",
     "showTitle": false,
     "tableResultSettingsMap": {},
     "title": ""
    }
   },
   "outputs": [],
   "source": [
    "# Joining post referral Spec Adv dataframes by 'EROC_DerMonth'\n",
    "\n",
    "df_post_referral_combined = df_post_referral_total \\\n",
    "    .join(df_post_referral_processed, on=\"EROC_DerMonth\", how=\"left\") \\\n",
    "    .join(df_post_referral_diverted, on=\"EROC_DerMonth\", how=\"left\")\n",
    "    \n",
    "df_post_referral_combined = df_post_referral_combined.orderBy(\"EROC_DerMonth\")\n",
    "\n",
    "df_post_referral_combined = df_post_referral_combined.drop(\"EROC_DerMonth\")\n",
    "\n",
    "#display(df_post_referral_combined)"
   ]
  },
  {
   "cell_type": "code",
   "execution_count": 0,
   "metadata": {
    "application/vnd.databricks.v1+cell": {
     "cellMetadata": {
      "byteLimit": 2048000,
      "rowLimit": 10000
     },
     "inputWidgets": {},
     "nuid": "d41bae0b-6eb9-46a9-bc00-8783310554b2",
     "showTitle": false,
     "tableResultSettingsMap": {},
     "title": ""
    }
   },
   "outputs": [],
   "source": [
    "# Joining other referral Spec Adv dataframes by 'EROC_DerMonth'\n",
    "\n",
    "df_other_referral_combined = df_other_types_total \\\n",
    "    .join(df_other_types_processed, on=\"EROC_DerMonth\", how=\"left\") \\\n",
    "    .join(df_other_types_diverted, on=\"EROC_DerMonth\", how=\"left\")\n",
    "    \n",
    "df_other_referral_combined = df_other_referral_combined.orderBy(\"EROC_DerMonth\")\n",
    "\n",
    "df_other_referral_combined = df_other_referral_combined.drop(\"EROC_DerMonth\")\n",
    "\n",
    "#display(df_other_referral_combined)"
   ]
  },
  {
   "cell_type": "code",
   "execution_count": 0,
   "metadata": {
    "application/vnd.databricks.v1+cell": {
     "cellMetadata": {
      "byteLimit": 2048000,
      "rowLimit": 10000
     },
     "inputWidgets": {},
     "nuid": "bbee95ff-0637-40a5-ab06-391448ae6cb9",
     "showTitle": false,
     "tableResultSettingsMap": {},
     "title": ""
    }
   },
   "outputs": [],
   "source": [
    "# Joining pre referral Spec Adv dataframes by 'EROC_DerMonth'\n",
    "\n",
    "df_prereferral_combined = df_prereferral_total \\\n",
    "    .join(df_prereferral_processed, on=\"EROC_DerMonth\", how=\"left\") \\\n",
    "    .join(df_prereferral_diverted, on=\"EROC_DerMonth\", how=\"left\")\n",
    "    \n",
    "df_prereferral_combined = df_prereferral_combined.orderBy(\"EROC_DerMonth\")\n",
    "\n",
    "df_prereferral_combined = df_prereferral_combined.drop(\"EROC_DerMonth\")\n",
    "\n",
    "#display(df_prereferral_combined)"
   ]
  },
  {
   "cell_type": "code",
   "execution_count": 0,
   "metadata": {
    "application/vnd.databricks.v1+cell": {
     "cellMetadata": {
      "byteLimit": 2048000,
      "rowLimit": 10000
     },
     "inputWidgets": {},
     "nuid": "8f88e972-7162-4df3-a302-7c01ad569b05",
     "showTitle": false,
     "tableResultSettingsMap": {},
     "title": ""
    }
   },
   "outputs": [],
   "source": [
    "#changing the date format within all types dataframe \n",
    "df_all_types_combined = df_all_types_combined.withColumn(\"EROC_DerMonth\", date_format(\"EROC_DerMonth\", \"MMMM yyyy\"))\n",
    "display(df_all_types_combined)"
   ]
  },
  {
   "cell_type": "code",
   "execution_count": 0,
   "metadata": {
    "application/vnd.databricks.v1+cell": {
     "cellMetadata": {
      "byteLimit": 2048000,
      "rowLimit": 10000
     },
     "inputWidgets": {},
     "nuid": "09badee4-d1c1-4965-ac20-463d4c681b09",
     "showTitle": false,
     "tableResultSettingsMap": {},
     "title": ""
    }
   },
   "outputs": [],
   "source": [
    "#inserting the dataframes into pandas\n",
    "#only use toPandas on final data frame\n",
    "\n",
    "#All types\n",
    "df_all_types_combined_pd = df_all_types_combined.toPandas()\n",
    "#Pre referral\n",
    "df_prereferral_combined_pd = df_prereferral_combined.toPandas()\n",
    "#Post referral\n",
    "df_post_referral_combined_pd = df_post_referral_combined.toPandas()\n",
    "#Other types\n",
    "df_other_referral_combined_pd = df_other_referral_combined.toPandas()"
   ]
  },
  {
   "cell_type": "code",
   "execution_count": 0,
   "metadata": {
    "application/vnd.databricks.v1+cell": {
     "cellMetadata": {
      "byteLimit": 2048000,
      "rowLimit": 10000
     },
     "inputWidgets": {},
     "nuid": "2474225e-d706-4831-a6b4-3c8a0d91b4b2",
     "showTitle": false,
     "tableResultSettingsMap": {},
     "title": ""
    }
   },
   "outputs": [],
   "source": [
    "from openpyxl.cell.cell import MergedCell\n",
    "\n",
    "def safe_insert_pandas_df_into_excel(df, ws, header, startrow, startcol, index):\n",
    "    \"\"\"\n",
    "    Inserts DataFrame into Excel sheet, skipping merged cells.\n",
    "    \"\"\"\n",
    "    # Write headers if needed\n",
    "    col_offset = 1 if index else 0\n",
    "    if header:\n",
    "        for j, col_name in enumerate(df.columns):\n",
    "            cell = ws.cell(row=startrow, column=startcol + j + col_offset)\n",
    "            if not isinstance(cell, MergedCell):\n",
    "                cell.value = col_name\n",
    "\n",
    "        startrow += 1  # move to next row for data\n",
    "\n",
    "    # Write the data\n",
    "    for i, row in enumerate(df.itertuples(index=index, name=None)):\n",
    "        for j, val in enumerate(row):\n",
    "            cell = ws.cell(row=startrow + i, column=startcol + j)\n",
    "            if not isinstance(cell, MergedCell):\n",
    "                cell.value = val\n",
    "\n",
    "# Now use this safe version instead of excel.insert_pandas_df_into_excel\n",
    "ws_england_spec_adv = wb['England | Specialist Advice']\n",
    "\n",
    "safe_insert_pandas_df_into_excel(\n",
    "    df=df_all_types_combined_pd,\n",
    "    ws=ws_england_spec_adv,\n",
    "    header=False,\n",
    "    startrow=16,\n",
    "    startcol=2,\n",
    "    index=False,\n",
    ")\n",
    "#display(df_all_types_combined_pd)\n",
    "\n",
    "safe_insert_pandas_df_into_excel(\n",
    "    df=df_prereferral_combined_pd,\n",
    "    ws=ws_england_spec_adv,\n",
    "    header=False,\n",
    "    startrow=16,\n",
    "    startcol=7,\n",
    "    index=False,\n",
    ")\n",
    "#display(df_prereferral_combined_pd)\n",
    "\n",
    "safe_insert_pandas_df_into_excel(\n",
    "    df=df_post_referral_combined_pd,\n",
    "    ws=ws_england_spec_adv,\n",
    "    header=False,\n",
    "    startrow=16,\n",
    "    startcol=11,\n",
    "    index=False,\n",
    ")\n",
    "#display(df_post_referral_combined_pd)\n",
    "\n",
    "safe_insert_pandas_df_into_excel(\n",
    "    df=df_other_referral_combined_pd,\n",
    "    ws=ws_england_spec_adv,\n",
    "    header=False,\n",
    "    startrow=16,\n",
    "    startcol=15,\n",
    "    index=False,\n",
    ")\n",
    "#display(df_other_referral_combined_pd)"
   ]
  },
  {
   "cell_type": "code",
   "execution_count": 0,
   "metadata": {
    "application/vnd.databricks.v1+cell": {
     "cellMetadata": {
      "byteLimit": 2048000,
      "rowLimit": 10000
     },
     "inputWidgets": {},
     "nuid": "80b9faa8-d53b-416f-bc4a-f1e06bf0e12e",
     "showTitle": false,
     "tableResultSettingsMap": {},
     "title": ""
    }
   },
   "outputs": [],
   "source": [
    "#defining boundaries of cells being copied\n",
    "#these numbers should not need changing these are the fixed peramiters of the existing repert template\n",
    "number_of_months = df_all_types_combined.select(F.countDistinct(\"EROC_DerMonth\")).collect()[0][0]\n",
    "new_months = number_of_months - 35\n",
    "pre_date_rows = 15\n",
    "copy_row = 35 + pre_date_rows\n",
    "end_row = number_of_months + pre_date_rows + 1\n"
   ]
  },
  {
   "cell_type": "code",
   "execution_count": 0,
   "metadata": {
    "application/vnd.databricks.v1+cell": {
     "cellMetadata": {
      "byteLimit": 2048000,
      "rowLimit": 10000
     },
     "inputWidgets": {},
     "nuid": "51233a31-c4ab-4358-b075-349bea25a894",
     "showTitle": false,
     "tableResultSettingsMap": {},
     "title": ""
    }
   },
   "outputs": [],
   "source": [
    "# Insert new rows into the UK Template based on the definitions in cell 15\n",
    "#additional_rows = new_months\n",
    "#ws_england_spec_adv.insert_rows(50, additional_rows)\n",
    "#keeping this in for now"
   ]
  },
  {
   "cell_type": "code",
   "execution_count": 0,
   "metadata": {
    "application/vnd.databricks.v1+cell": {
     "cellMetadata": {
      "byteLimit": 2048000,
      "rowLimit": 10000
     },
     "inputWidgets": {},
     "nuid": "f3f7c3fb-05e6-4fb3-a756-2b1876e2e03d",
     "showTitle": false,
     "tableResultSettingsMap": {},
     "title": ""
    }
   },
   "outputs": [],
   "source": [
    "#Formatting the new row\n",
    "for row_number in range(copy_row, end_row):\n",
    "    for column_number in range(2, 18):  # 18 to include column 17 (Q)\n",
    "        cell_to_copy_from = ws_england_spec_adv.cell(row=copy_row, column=column_number)\n",
    "        cell_to_copy_to = ws_england_spec_adv.cell(row=row_number, column=column_number)\n",
    "        excel.copy_all_cell_styles(cell_to_copy_from, cell_to_copy_to)\n",
    "\n",
    "#inserting extra blank row\n",
    "ws_england_spec_adv.insert_rows(end_row)\n",
    "#re-merging merged cells\n",
    "from openpyxl.styles import Alignment\n",
    "\n",
    "ws_england_spec_adv.merge_cells('C'+str(end_row + 3) + ':E' + str(end_row + 3))\n",
    "ws_england_spec_adv.merge_cells('G'+str(end_row + 3) + ':I' + str(end_row + 3))\n",
    "ws_england_spec_adv.merge_cells('K'+str(end_row + 3) + ':M' + str(end_row + 3))\n",
    "ws_england_spec_adv.merge_cells('O'+str(end_row + 3) + ':Q' + str(end_row + 3))\n",
    "\n",
    "# Center align the merged cells and maintain wrapped text\n",
    "ws_england_spec_adv['C'+str(end_row + 3)].alignment = Alignment(horizontal='center', vertical='center')\n",
    "ws_england_spec_adv['G'+str(end_row + 3)].alignment = Alignment(horizontal='center', vertical='center')\n",
    "ws_england_spec_adv['K'+str(end_row + 3)].alignment = Alignment(horizontal='center', vertical='center')\n",
    "ws_england_spec_adv['O'+str(end_row + 3)].alignment = Alignment(horizontal='center', vertical='center')\n",
    "#this un-wraps the text, note for publication\n",
    "\n",
    "\n"
   ]
  },
  {
   "cell_type": "code",
   "execution_count": 0,
   "metadata": {
    "application/vnd.databricks.v1+cell": {
     "cellMetadata": {
      "byteLimit": 2048000,
      "rowLimit": 10000
     },
     "inputWidgets": {},
     "nuid": "52375690-99dd-4ff9-bb46-6e93368184ad",
     "showTitle": false,
     "tableResultSettingsMap": {},
     "title": ""
    }
   },
   "outputs": [],
   "source": [
    "# Save the workbook with the DataFrame inserted\n",
    "wb.save('Outputs/SA_MI.xlsx')"
   ]
  }
 ],
 "metadata": {
  "application/vnd.databricks.v1+notebook": {
   "computePreferences": null,
   "dashboards": [],
   "environmentMetadata": {
    "base_environment": "",
    "environment_version": "2"
   },
   "inputWidgetPreferences": null,
   "language": "python",
   "notebookMetadata": {
    "pythonIndentUnit": 4
   },
   "notebookName": "England Level SA",
   "widgets": {}
  },
  "language_info": {
   "name": "python"
  }
 },
 "nbformat": 4,
 "nbformat_minor": 0
}
