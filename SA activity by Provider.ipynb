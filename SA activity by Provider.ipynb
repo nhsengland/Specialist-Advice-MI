{
 "cells": [
  {
   "cell_type": "code",
   "execution_count": 0,
   "metadata": {
    "application/vnd.databricks.v1+cell": {
     "cellMetadata": {
      "byteLimit": 2048000,
      "rowLimit": 10000
     },
     "inputWidgets": {},
     "nuid": "985f5132-1113-4b59-aa3f-98c38d3835a3",
     "showTitle": false,
     "tableResultSettingsMap": {},
     "title": ""
    }
   },
   "outputs": [],
   "source": [
    "#importing the tools\n",
    "from env import env\n",
    "from src import utils, excel\n",
    "\n",
    "import openpyxl\n",
    "import pandas as pd\n",
    "\n",
    "from pyspark.sql import functions as F\n",
    "from datetime import datetime\n",
    "from pyspark.sql.functions import date_format\n",
    "from openpyxl.styles import NamedStyle"
   ]
  },
  {
   "cell_type": "code",
   "execution_count": 0,
   "metadata": {
    "application/vnd.databricks.v1+cell": {
     "cellMetadata": {
      "byteLimit": 2048000,
      "rowLimit": 10000
     },
     "inputWidgets": {},
     "nuid": "9603325b-6f01-4158-81db-598cbb91a6f3",
     "showTitle": false,
     "tableResultSettingsMap": {},
     "title": ""
    }
   },
   "outputs": [],
   "source": [
    "# Load the SA data\n",
    "df_raw_sa = spark.read.option(\"header\",\"true\").option(\"recursiveFileLookup\",\"true\").parquet(env[\"spec_advi_path\"])\n",
    "wb = openpyxl.load_workbook('Provider template.xlsx')\n",
    "report_start = 'April 2022 to '\n",
    "\n",
    "#display (spec_advi_path)\n",
    "#df_raw_sa.display()\n",
    "\n",
    "publishing_month = df_raw_sa.select(F.max(\"EROC_DerMonth\")).collect()[0][0]\n",
    "publishing_month = datetime.strptime(publishing_month, '%Y-%m-%d')\n",
    "publishing_month = publishing_month.strftime(\"%B %Y\")\n",
    "date_header = (report_start + publishing_month) \n",
    "\n",
    "#print(date_header)"
   ]
  },
  {
   "cell_type": "code",
   "execution_count": 0,
   "metadata": {
    "application/vnd.databricks.v1+cell": {
     "cellMetadata": {
      "byteLimit": 2048000,
      "rowLimit": 10000
     },
     "inputWidgets": {},
     "nuid": "95036e27-b329-4b8e-a88c-07c452c17e6e",
     "showTitle": false,
     "tableResultSettingsMap": {},
     "title": ""
    }
   },
   "outputs": [],
   "source": [
    "#Total requests for all types of SA\n",
    "df_total_all_types_sa = df_raw_sa.where((F.col(\"EROC_DerMonth\") > '2022-03-01') & (F.col(\"Acute_Status\") == \"Acute\"))\n",
    "    \n",
    "df_total_all_types_sa = df_total_all_types_sa.groupby(\n",
    "        \"EROC_DerMonth\",\n",
    "        \"RESP_Org_Code\",\n",
    "        \"RESP_Org_Name\"\n",
    "    ).agg(F.sum(\"EROC_Requests\").alias(\"Requests\")).orderBy(\n",
    "        \"EROC_DerMonth\",\n",
    "        \"RESP_Org_Code\"\n",
    "    )\n",
    "\n",
    "# Select only the columns you need\n",
    "df_total_all_types_sa = df_total_all_types_sa.select(\n",
    "    \"EROC_DerMonth\",\n",
    "    \"RESP_Org_Code\",\n",
    "    \"RESP_Org_Name\",\n",
    "    \"Requests\"\n",
    ")\n",
    "\n",
    "# Show the result#display(df_total_all_types_sa)"
   ]
  },
  {
   "cell_type": "code",
   "execution_count": 0,
   "metadata": {
    "application/vnd.databricks.v1+cell": {
     "cellMetadata": {
      "byteLimit": 2048000,
      "rowLimit": 10000
     },
     "inputWidgets": {},
     "nuid": "7d7b679b-c360-4cdf-a560-f5f3117067e8",
     "showTitle": false,
     "tableResultSettingsMap": {},
     "title": ""
    }
   },
   "outputs": [],
   "source": [
    "#putting the data in pivot table format\n",
    "df_total_all_types_sa_pivot = (df_total_all_types_sa\n",
    "    .groupby(\n",
    "        \"RESP_Org_Code\",\n",
    "        \"RESP_Org_Name\",\n",
    "    )\n",
    "    .pivot(\"EROC_DerMonth\")\n",
    "    .agg(F.sum(\"Requests\"))\n",
    "    .orderBy(\n",
    "        \"RESP_Org_Code\",\n",
    "        \"RESP_Org_Name\",\n",
    "        )\n",
    "    .withColumnRenamed(\"RESP_Org_Code\", \"Provider Code\")\n",
    "    .withColumnRenamed(\"RESP_Org_Name\", \"Provider Name\")\n",
    ")\n",
    "\n",
    "#display(df_total_all_types_sa_pivot)"
   ]
  },
  {
   "cell_type": "code",
   "execution_count": 0,
   "metadata": {
    "application/vnd.databricks.v1+cell": {
     "cellMetadata": {
      "byteLimit": 2048000,
      "rowLimit": 10000
     },
     "inputWidgets": {},
     "nuid": "84b6801c-0316-45b5-8708-a5f1d4ac9579",
     "showTitle": false,
     "tableResultSettingsMap": {},
     "title": ""
    }
   },
   "outputs": [],
   "source": [
    "#Processed requests for all types of SA\n",
    "df_processed_all_types_sa = df_raw_sa.where((F.col(\"EROC_DerMonth\") > '2022-03-01') & \n",
    "                                            (F.col(\"Acute_Status\") == \"Acute\") & \n",
    "                                            (F.col(\"EROC_DerStatus\") != 2) & \n",
    "                                            (F.col(\"EROC_DerOutcome\") != 40))\n",
    "\n",
    "df_processed_all_types_sa = df_processed_all_types_sa.groupby(\n",
    "        \"EROC_DerMonth\",\n",
    "        \"RESP_Org_Code\",\n",
    "        \"RESP_Org_Name\"\n",
    "    ).agg(F.sum(\"EROC_Requests\").alias(\"Requests\")).orderBy(\n",
    "        \"EROC_DerMonth\",\n",
    "        \"RESP_Org_Code\"\n",
    "    )\n",
    "\n",
    "# Select only the columns you need\n",
    "df_processed_all_types_sa = df_processed_all_types_sa.select(\n",
    "    \"EROC_DerMonth\",\n",
    "    \"RESP_Org_Code\",\n",
    "    \"RESP_Org_Name\",\n",
    "    \"Requests\"\n",
    ")\n",
    "\n",
    "#display(df_processed_all_types_sa)"
   ]
  },
  {
   "cell_type": "code",
   "execution_count": 0,
   "metadata": {
    "application/vnd.databricks.v1+cell": {
     "cellMetadata": {
      "byteLimit": 2048000,
      "rowLimit": 10000
     },
     "inputWidgets": {},
     "nuid": "3e111317-0b08-4596-a11e-2b1c1dce0166",
     "showTitle": false,
     "tableResultSettingsMap": {},
     "title": ""
    }
   },
   "outputs": [],
   "source": [
    "#putting the data in pivot table format\n",
    "df_processed_all_types_sa_pivot = (df_processed_all_types_sa\n",
    "    .groupby(\n",
    "        \"RESP_Org_Code\",\n",
    "        \"RESP_Org_Name\",\n",
    "    )\n",
    "    .pivot(\"EROC_DerMonth\")\n",
    "    .agg(F.sum(\"Requests\"))\n",
    "    .orderBy(\n",
    "        \"RESP_Org_Code\",\n",
    "        \"RESP_Org_Name\",\n",
    "        )\n",
    "    .withColumnRenamed(\"RESP_Org_Code\", \"Provider Code\")\n",
    "    .withColumnRenamed(\"RESP_Org_Name\", \"Provider Name\")\n",
    ")\n",
    "\n",
    "#display(df_processed_all_types_sa_pivot)\n"
   ]
  },
  {
   "cell_type": "code",
   "execution_count": 0,
   "metadata": {
    "application/vnd.databricks.v1+cell": {
     "cellMetadata": {
      "byteLimit": 2048000,
      "rowLimit": 10000
     },
     "inputWidgets": {},
     "nuid": "919f3948-2030-4477-8b5d-da2a0947b966",
     "showTitle": false,
     "tableResultSettingsMap": {},
     "title": ""
    }
   },
   "outputs": [],
   "source": [
    "#Diverted requests for all types of SA \n",
    "df_diverted_all_types_sa = df_raw_sa.where((F.col(\"EROC_DerMonth\") > '2022-03-01') & \n",
    "                                            (F.col(\"Acute_Status\") == \"Acute\") & \n",
    "                                            (F.col(\"EROC_DerStatus\") != 2) & \n",
    "                                            (F.col(\"EROC_DerOutcome\").isin (10,12)))\n",
    "\n",
    "df_diverted_all_types_sa = df_diverted_all_types_sa.groupby(\n",
    "        \"EROC_DerMonth\",\n",
    "        \"RESP_Org_Code\",\n",
    "        \"RESP_Org_Name\"\n",
    "    ).agg(F.sum(\"EROC_Requests\").alias(\"Requests\")).orderBy(\n",
    "        \"EROC_DerMonth\",\n",
    "        \"RESP_Org_Code\"\n",
    "    )\n",
    "\n",
    "# Select only the columns you need\n",
    "df_diverted_all_types_sa = df_diverted_all_types_sa.select(\n",
    "    \"EROC_DerMonth\",\n",
    "    \"RESP_Org_Code\",\n",
    "    \"RESP_Org_Name\",\n",
    "    \"Requests\"\n",
    ")\n",
    "\n",
    "#display(df_diverted_all_types_sa)"
   ]
  },
  {
   "cell_type": "code",
   "execution_count": 0,
   "metadata": {
    "application/vnd.databricks.v1+cell": {
     "cellMetadata": {
      "byteLimit": 2048000,
      "rowLimit": 10000
     },
     "inputWidgets": {},
     "nuid": "a318b91d-51ef-4fd5-8408-bb413ebd7883",
     "showTitle": false,
     "tableResultSettingsMap": {},
     "title": ""
    }
   },
   "outputs": [],
   "source": [
    "#putting the data in pivot table format\n",
    "df_diverted_all_types_sa_pivot = (df_diverted_all_types_sa\n",
    "    .groupby(\n",
    "        \"RESP_Org_Code\",\n",
    "        \"RESP_Org_Name\",\n",
    "    )\n",
    "    .pivot(\"EROC_DerMonth\")\n",
    "    .agg(F.sum(\"Requests\"))\n",
    "    .orderBy(\n",
    "        \"RESP_Org_Code\",\n",
    "        \"RESP_Org_Name\",\n",
    "        )\n",
    "    .withColumnRenamed(\"RESP_Org_Code\", \"Provider Code\")\n",
    "    .withColumnRenamed(\"RESP_Org_Name\", \"Provider Name\")\n",
    ")\n",
    "\n",
    "#display(df_diverted_all_types_sa_pivot)"
   ]
  },
  {
   "cell_type": "code",
   "execution_count": 0,
   "metadata": {
    "application/vnd.databricks.v1+cell": {
     "cellMetadata": {
      "byteLimit": 2048000,
      "rowLimit": 10000
     },
     "inputWidgets": {},
     "nuid": "59d35fda-c033-4424-8b08-8298bf65bd17",
     "showTitle": false,
     "tableResultSettingsMap": {},
     "title": ""
    }
   },
   "outputs": [],
   "source": [
    "#Total requests for pre referral of SA\n",
    "df_total_pre_referral_sa = df_raw_sa.where(((F.col(\"EROC_DerMonth\") > '2022-03-01') & (F.col(\"Acute_Status\") == \"Acute\")) & (F.col(\"EROC_DerTypeOfSpecialistAdvice\") == 1))\n",
    "    \n",
    "df_total_pre_referral_sa = df_total_pre_referral_sa.groupby(\n",
    "        \"EROC_DerMonth\",\n",
    "        \"RESP_Org_Code\",\n",
    "        \"RESP_Org_Name\"\n",
    "    ).agg(F.sum(\"EROC_Requests\").alias(\"Requests\")).orderBy(\n",
    "        \"EROC_DerMonth\",\n",
    "        \"RESP_Org_Code\"\n",
    "    )\n",
    "\n",
    "# Select only the columns you need\n",
    "df_total_pre_referral_sa = df_total_pre_referral_sa.select(\n",
    "    \"EROC_DerMonth\",\n",
    "    \"RESP_Org_Code\",\n",
    "    \"RESP_Org_Name\",\n",
    "    \"Requests\"\n",
    ")\n",
    "\n",
    "#display(df_total_pre_referral_sa)\n",
    "\n",
    "#putting the data in pivot table format\n",
    "df_total_pre_referral_sa_pivot = (df_total_pre_referral_sa\n",
    "    .groupby(\n",
    "        \"RESP_Org_Code\",\n",
    "        \"RESP_Org_Name\",\n",
    "    )\n",
    "    .pivot(\"EROC_DerMonth\")\n",
    "    .agg(F.sum(\"Requests\"))\n",
    "    .orderBy(\n",
    "        \"RESP_Org_Code\",\n",
    "        \"RESP_Org_Name\",\n",
    "        )\n",
    "    .withColumnRenamed(\"RESP_Org_Code\", \"Provider Code\")\n",
    "    .withColumnRenamed(\"RESP_Org_Name\", \"Provider Name\")\n",
    ")\n",
    "\n",
    "#display(df_total_pre_referral_sa_pivot)\n",
    "\n"
   ]
  },
  {
   "cell_type": "code",
   "execution_count": 0,
   "metadata": {
    "application/vnd.databricks.v1+cell": {
     "cellMetadata": {
      "byteLimit": 2048000,
      "rowLimit": 10000
     },
     "inputWidgets": {},
     "nuid": "c932b0fd-c03c-4ebc-bb3b-3fabbe5c36c2",
     "showTitle": false,
     "tableResultSettingsMap": {},
     "title": ""
    }
   },
   "outputs": [],
   "source": [
    "# Processed requests for pre_referral SA\n",
    "df_processed_pre_referral_sa = df_raw_sa.where(\n",
    "    (F.col(\"EROC_DerMonth\") > '2022-03-01') & \n",
    "    (F.col(\"Acute_Status\") == \"Acute\") & \n",
    "    (F.col(\"EROC_DerStatus\") != 2) & \n",
    "    (F.col(\"EROC_DerOutcome\") != 40) & \n",
    "    (F.col(\"EROC_DerTypeOfSpecialistAdvice\") == 1)\n",
    ")\n",
    "\n",
    "df_processed_pre_referral_sa = df_processed_pre_referral_sa.groupby(\n",
    "    \"EROC_DerMonth\",\n",
    "    \"RESP_Org_Code\",\n",
    "    \"RESP_Org_Name\"\n",
    ").agg(F.sum(\"EROC_Requests\").alias(\"Requests\")).orderBy(\n",
    "    \"EROC_DerMonth\",\n",
    "    \"RESP_Org_Code\"\n",
    ")\n",
    "\n",
    "# Select only the columns you need\n",
    "df_processed_pre_referral_sa = df_processed_pre_referral_sa.select(\n",
    "    \"EROC_DerMonth\",\n",
    "    \"RESP_Org_Code\",\n",
    "    \"RESP_Org_Name\",\n",
    "    \"Requests\"\n",
    ")\n",
    "\n",
    "#display(df_processed_pre_referral_sa)\n",
    "\n",
    "# Putting the data in pivot table format\n",
    "df_processed_pre_referral_sa_pivot = (df_processed_pre_referral_sa\n",
    "    .groupby(\n",
    "        \"RESP_Org_Code\",\n",
    "        \"RESP_Org_Name\",\n",
    "    )\n",
    "    .pivot(\"EROC_DerMonth\")\n",
    "    .agg(F.sum(\"Requests\"))\n",
    "    .orderBy(\n",
    "        \"RESP_Org_Code\",\n",
    "        \"RESP_Org_Name\",\n",
    "    )\n",
    "    .withColumnRenamed(\"RESP_Org_Code\", \"Provider Code\")\n",
    "    .withColumnRenamed(\"RESP_Org_Name\", \"Provider Name\")\n",
    ")\n",
    "\n",
    "#display(df_processed_pre_referral_sa_pivot)"
   ]
  },
  {
   "cell_type": "code",
   "execution_count": 0,
   "metadata": {
    "application/vnd.databricks.v1+cell": {
     "cellMetadata": {
      "byteLimit": 2048000,
      "rowLimit": 10000
     },
     "inputWidgets": {},
     "nuid": "4b5b6c84-57d5-4dec-8b5b-0fab72892707",
     "showTitle": false,
     "tableResultSettingsMap": {},
     "title": ""
    }
   },
   "outputs": [],
   "source": [
    "# Diverted requests for pre_referral SA \n",
    "df_diverted_pre_referral_sa = df_raw_sa.where(\n",
    "    (F.col(\"EROC_DerMonth\") > '2022-03-01') & \n",
    "    (F.col(\"Acute_Status\") == \"Acute\") & \n",
    "    (F.col(\"EROC_DerStatus\") != 2) & \n",
    "    (F.col(\"EROC_DerOutcome\").isin([10, 12])) & \n",
    "    (F.col(\"EROC_DerTypeOfSpecialistAdvice\") == 1)\n",
    ")\n",
    "\n",
    "df_diverted_pre_referral_sa = df_diverted_pre_referral_sa.groupby(\n",
    "    \"EROC_DerMonth\",\n",
    "    \"RESP_Org_Code\",\n",
    "    \"RESP_Org_Name\"\n",
    ").agg(F.sum(\"EROC_Requests\").alias(\"Requests\")).orderBy(\n",
    "    \"EROC_DerMonth\",\n",
    "    \"RESP_Org_Code\"\n",
    ")\n",
    "\n",
    "# Select only the columns you need\n",
    "df_diverted_pre_referral_sa = df_diverted_pre_referral_sa.select(\n",
    "    \"EROC_DerMonth\",\n",
    "    \"RESP_Org_Code\",\n",
    "    \"RESP_Org_Name\",\n",
    "    \"Requests\"\n",
    ")\n",
    "\n",
    "# putting the data in pivot table format\n",
    "df_diverted_pre_referral_sa_pivot = (df_diverted_pre_referral_sa\n",
    "    .groupby(\n",
    "        \"RESP_Org_Code\",\n",
    "        \"RESP_Org_Name\"\n",
    "    )\n",
    "    .pivot(\"EROC_DerMonth\")\n",
    "    .agg(F.sum(\"Requests\"))\n",
    "    .orderBy(\n",
    "        \"RESP_Org_Code\",\n",
    "        \"RESP_Org_Name\"\n",
    "    )\n",
    "    .withColumnRenamed(\"RESP_Org_Code\", \"Provider Code\")\n",
    "    .withColumnRenamed(\"RESP_Org_Name\", \"Provider Name\")\n",
    ")\n",
    "\n",
    "#display(df_diverted_pre_referral_sa_pivot)"
   ]
  },
  {
   "cell_type": "code",
   "execution_count": 0,
   "metadata": {
    "application/vnd.databricks.v1+cell": {
     "cellMetadata": {
      "byteLimit": 2048000,
      "rowLimit": 10000
     },
     "inputWidgets": {},
     "nuid": "e66a1874-791e-4d97-ad00-54234d543415",
     "showTitle": false,
     "tableResultSettingsMap": {},
     "title": ""
    }
   },
   "outputs": [],
   "source": [
    "# Total requests for post referral of SA\n",
    "df_total_post_referral_sa = df_raw_sa.where(\n",
    "    (F.col(\"EROC_DerMonth\") > '2022-03-01') & \n",
    "    (F.col(\"Acute_Status\") == \"Acute\") & \n",
    "    (F.col(\"EROC_DerTypeOfSpecialistAdvice\") == 2)\n",
    ")\n",
    "\n",
    "df_total_post_referral_sa = df_total_post_referral_sa.groupby(\n",
    "    \"EROC_DerMonth\",\n",
    "    \"RESP_Org_Code\",\n",
    "    \"RESP_Org_Name\"\n",
    ").agg(F.sum(\"EROC_Requests\").alias(\"Requests\")).orderBy(\n",
    "    \"EROC_DerMonth\",\n",
    "    \"RESP_Org_Code\"\n",
    ")\n",
    "\n",
    "# Select only the columns you need\n",
    "df_total_post_referral_sa = df_total_post_referral_sa.select(\n",
    "    \"EROC_DerMonth\",\n",
    "    \"RESP_Org_Code\",\n",
    "    \"RESP_Org_Name\",\n",
    "    \"Requests\"\n",
    ")\n",
    "\n",
    "# putting the data in pivot table format\n",
    "df_total_post_referral_sa_pivot = (df_total_post_referral_sa\n",
    "    .groupby(\n",
    "        \"RESP_Org_Code\",\n",
    "        \"RESP_Org_Name\",\n",
    "    )\n",
    "    .pivot(\"EROC_DerMonth\")\n",
    "    .agg(F.sum(\"Requests\"))\n",
    "    .orderBy(\n",
    "        \"RESP_Org_Code\",\n",
    "        \"RESP_Org_Name\",\n",
    "    )\n",
    "    .withColumnRenamed(\"RESP_Org_Code\", \"Provider Code\")\n",
    "    .withColumnRenamed(\"RESP_Org_Name\", \"Provider Name\")\n",
    ")\n",
    "\n",
    "#display(df_total_post_referral_sa_pivot)"
   ]
  },
  {
   "cell_type": "code",
   "execution_count": 0,
   "metadata": {
    "application/vnd.databricks.v1+cell": {
     "cellMetadata": {
      "byteLimit": 2048000,
      "rowLimit": 10000
     },
     "inputWidgets": {},
     "nuid": "975f0d44-57a0-4195-bf05-decba693de13",
     "showTitle": false,
     "tableResultSettingsMap": {},
     "title": ""
    }
   },
   "outputs": [],
   "source": [
    "# Processed requests for post_referral SA\n",
    "df_processed_post_referral_sa = df_raw_sa.where(\n",
    "    (F.col(\"EROC_DerMonth\") > '2022-03-01') & \n",
    "    (F.col(\"Acute_Status\") == \"Acute\") & \n",
    "    (F.col(\"EROC_DerStatus\") != 2) & \n",
    "    (F.col(\"EROC_DerOutcome\") != 40) & \n",
    "    (F.col(\"EROC_DerTypeOfSpecialistAdvice\") == 2)\n",
    ")\n",
    "\n",
    "df_processed_post_referral_sa = df_processed_post_referral_sa.groupby(\n",
    "    \"EROC_DerMonth\",\n",
    "    \"RESP_Org_Code\",\n",
    "    \"RESP_Org_Name\"\n",
    ").agg(F.sum(\"EROC_Requests\").alias(\"Requests\")).orderBy(\n",
    "    \"EROC_DerMonth\",\n",
    "    \"RESP_Org_Code\"\n",
    ")\n",
    "\n",
    "# Select only the columns you need\n",
    "df_processed_post_referral_sa = df_processed_post_referral_sa.select(\n",
    "    \"EROC_DerMonth\",\n",
    "    \"RESP_Org_Code\",\n",
    "    \"RESP_Org_Name\",\n",
    "    \"Requests\"\n",
    ")\n",
    "\n",
    "# putting the data in pivot table format\n",
    "df_processed_post_referral_sa_pivot = (df_processed_post_referral_sa\n",
    "    .groupby(\n",
    "        \"RESP_Org_Code\",\n",
    "        \"RESP_Org_Name\",\n",
    "    )\n",
    "    .pivot(\"EROC_DerMonth\")\n",
    "    .agg(F.sum(\"Requests\"))\n",
    "    .orderBy(\n",
    "        \"RESP_Org_Code\",\n",
    "        \"RESP_Org_Name\",\n",
    "    )\n",
    "    .withColumnRenamed(\"RESP_Org_Code\", \"Provider Code\")\n",
    "    .withColumnRenamed(\"RESP_Org_Name\", \"Provider Name\")\n",
    ")\n",
    "\n",
    "#display(df_processed_post_referral_sa_pivot)"
   ]
  },
  {
   "cell_type": "code",
   "execution_count": 0,
   "metadata": {
    "application/vnd.databricks.v1+cell": {
     "cellMetadata": {
      "byteLimit": 2048000,
      "rowLimit": 10000
     },
     "inputWidgets": {},
     "nuid": "6db176da-2df6-4afa-87c8-89b9aa981e9f",
     "showTitle": false,
     "tableResultSettingsMap": {},
     "title": ""
    }
   },
   "outputs": [],
   "source": [
    "# Diverted requests for post_referral SA \n",
    "df_diverted_post_referral_sa = df_raw_sa.where(\n",
    "    (F.col(\"EROC_DerMonth\") > '2022-03-01') & \n",
    "    (F.col(\"Acute_Status\") == \"Acute\") & \n",
    "    (F.col(\"EROC_DerStatus\") != 2) & \n",
    "    (F.col(\"EROC_DerOutcome\").isin(10, 12)) & \n",
    "    (F.col(\"EROC_DerTypeOfSpecialistAdvice\") == 2)\n",
    ")\n",
    "\n",
    "df_diverted_post_referral_sa = df_diverted_post_referral_sa.groupby(\n",
    "    \"EROC_DerMonth\",\n",
    "    \"RESP_Org_Code\",\n",
    "    \"RESP_Org_Name\"\n",
    ").agg(F.sum(\"EROC_Requests\").alias(\"Requests\")).orderBy(\n",
    "    \"EROC_DerMonth\",\n",
    "    \"RESP_Org_Code\"\n",
    ")\n",
    "\n",
    "# Select only the columns you need\n",
    "df_diverted_post_referral_sa = df_diverted_post_referral_sa.select(\n",
    "    \"EROC_DerMonth\",\n",
    "    \"RESP_Org_Code\",\n",
    "    \"RESP_Org_Name\",\n",
    "    \"Requests\"\n",
    ")\n",
    "\n",
    "# putting the data in pivot table format\n",
    "df_diverted_post_referral_sa_pivot = (df_diverted_post_referral_sa\n",
    "    .groupby(\n",
    "        \"RESP_Org_Code\",\n",
    "        \"RESP_Org_Name\",\n",
    "    )\n",
    "    .pivot(\"EROC_DerMonth\")\n",
    "    .agg(F.sum(\"Requests\"))\n",
    "    .orderBy(\n",
    "        \"RESP_Org_Code\",\n",
    "        \"RESP_Org_Name\",\n",
    "    )\n",
    "    .withColumnRenamed(\"RESP_Org_Code\", \"Provider Code\")\n",
    "    .withColumnRenamed(\"RESP_Org_Name\", \"Provider Name\")\n",
    ")\n",
    "\n",
    "#display(df_diverted_post_referral_sa_pivot)"
   ]
  },
  {
   "cell_type": "code",
   "execution_count": 0,
   "metadata": {
    "application/vnd.databricks.v1+cell": {
     "cellMetadata": {
      "byteLimit": 2048000,
      "rowLimit": 10000
     },
     "inputWidgets": {},
     "nuid": "2c8112ca-19ab-4b42-8460-fe24e330d407",
     "showTitle": false,
     "tableResultSettingsMap": {},
     "title": ""
    }
   },
   "outputs": [],
   "source": [
    "# Total requests for other_referral SA\n",
    "df_total_other_referral_sa = df_raw_sa.where(\n",
    "    (F.col(\"EROC_DerMonth\") > '2022-03-01') & \n",
    "    (F.col(\"Acute_Status\") == \"Acute\") & \n",
    "    #(F.col(\"EROC_DerStatus\") != 2) & \n",
    "    #(F.col(\"EROC_DerOutcome\") != 40) & \n",
    "    (F.col(\"EROC_DerTypeOfSpecialistAdvice\") == 99)\n",
    ")\n",
    "\n",
    "df_total_other_referral_sa = df_total_other_referral_sa.groupby(\n",
    "    \"EROC_DerMonth\",\n",
    "    \"RESP_Org_Code\",\n",
    "    \"RESP_Org_Name\"\n",
    ").agg(F.sum(\"EROC_Requests\").alias(\"Requests\")).orderBy(\n",
    "    \"EROC_DerMonth\",\n",
    "    \"RESP_Org_Code\"\n",
    ")\n",
    "\n",
    "# Select only the columns you need\n",
    "df_total_other_referral_sa = df_total_other_referral_sa.select(\n",
    "    \"EROC_DerMonth\",\n",
    "    \"RESP_Org_Code\",\n",
    "    \"RESP_Org_Name\",\n",
    "    \"Requests\"\n",
    ")\n",
    "\n",
    "# Get all unique RESP_Org_Code and RESP_Org_Name with Acute_Status == Acute\n",
    "df_all_orgs = df_raw_sa.where(F.col(\"Acute_Status\") == \"Acute\").select(\"RESP_Org_Code\", \"RESP_Org_Name\").distinct()\n",
    "\n",
    "# Join to ensure all RESP_Org_Code are included\n",
    "df_total_other_referral_sa = df_all_orgs.join(\n",
    "    df_total_other_referral_sa,\n",
    "    on=[\"RESP_Org_Code\", \"RESP_Org_Name\"],\n",
    "    how=\"left\"\n",
    ").fillna(0, subset=[\"Requests\"])\n",
    "\n",
    "# putting the data in pivot table format\n",
    "df_total_other_referral_sa_pivot = (df_total_other_referral_sa\n",
    "    .groupby(\n",
    "        \"RESP_Org_Code\",\n",
    "        \"RESP_Org_Name\",\n",
    "    )\n",
    "    .pivot(\"EROC_DerMonth\")\n",
    "    .agg(F.sum(\"Requests\"))\n",
    "    .orderBy(\n",
    "        \"RESP_Org_Code\",\n",
    "        \"RESP_Org_Name\",\n",
    "    )\n",
    "    .withColumnRenamed(\"RESP_Org_Code\", \"Provider Code\")\n",
    "    .withColumnRenamed(\"RESP_Org_Name\", \"Provider Name\")\n",
    ")\n",
    "\n",
    "#display(df_total_other_referral_sa_pivot)"
   ]
  },
  {
   "cell_type": "code",
   "execution_count": 0,
   "metadata": {
    "application/vnd.databricks.v1+cell": {
     "cellMetadata": {
      "byteLimit": 2048000,
      "rowLimit": 10000
     },
     "inputWidgets": {},
     "nuid": "4fd7ccdf-63c7-4dd0-89b4-e40fda74bcde",
     "showTitle": false,
     "tableResultSettingsMap": {},
     "title": ""
    }
   },
   "outputs": [],
   "source": [
    "# Processed requests for other_referral SA\n",
    "\n",
    "df_processed_other_referral_sa = df_raw_sa.where(\n",
    "    (F.col(\"EROC_DerMonth\") > '2022-03-01') & \n",
    "    (F.col(\"Acute_Status\") == \"Acute\") & \n",
    "    (F.col(\"EROC_DerStatus\") != 2) & \n",
    "    (F.col(\"EROC_DerOutcome\") != 40) & \n",
    "    (F.col(\"EROC_DerTypeOfSpecialistAdvice\") == 99)\n",
    ")\n",
    "\n",
    "df_processed_other_referral_sa = df_processed_other_referral_sa.groupby(\n",
    "    \"EROC_DerMonth\",\n",
    "    \"RESP_Org_Code\",\n",
    "    \"RESP_Org_Name\"\n",
    ").agg(F.sum(\"EROC_Requests\").alias(\"Requests\")).orderBy(\n",
    "    \"EROC_DerMonth\",\n",
    "    \"RESP_Org_Code\"\n",
    ")\n",
    "\n",
    "# Select only the columns you need\n",
    "df_processed_other_referral_sa = df_processed_other_referral_sa.select(\n",
    "    \"EROC_DerMonth\",\n",
    "    \"RESP_Org_Code\",\n",
    "    \"RESP_Org_Name\",\n",
    "    \"Requests\"\n",
    ")\n",
    "\n",
    "# Get all unique RESP_Org_Code and RESP_Org_Name with Acute_Status == Acute\n",
    "df_all_orgs = df_raw_sa.where(F.col(\"Acute_Status\") == \"Acute\").select(\"RESP_Org_Code\", \"RESP_Org_Name\").distinct()\n",
    "\n",
    "# Join to ensure all RESP_Org_Code are included\n",
    "df_processed_other_referral_sa = df_all_orgs.join(\n",
    "    df_processed_other_referral_sa,\n",
    "    on=[\"RESP_Org_Code\", \"RESP_Org_Name\"],\n",
    "    how=\"left\"\n",
    ").fillna(0, subset=[\"Requests\"])\n",
    "\n",
    "# putting the data in pivot table format\n",
    "df_processed_other_referral_sa_pivot = (df_processed_other_referral_sa\n",
    "    .groupby(\n",
    "        \"RESP_Org_Code\",\n",
    "        \"RESP_Org_Name\",\n",
    "    )\n",
    "    .pivot(\"EROC_DerMonth\")\n",
    "    .agg(F.sum(\"Requests\"))\n",
    "    .orderBy(\n",
    "        \"RESP_Org_Code\",\n",
    "        \"RESP_Org_Name\",\n",
    "    )\n",
    "    .withColumnRenamed(\"RESP_Org_Code\", \"Provider Code\")\n",
    "    .withColumnRenamed(\"RESP_Org_Name\", \"Provider Name\")\n",
    ")\n",
    "\n",
    "#display(df_processed_other_referral_sa_pivot)"
   ]
  },
  {
   "cell_type": "code",
   "execution_count": 0,
   "metadata": {
    "application/vnd.databricks.v1+cell": {
     "cellMetadata": {
      "byteLimit": 2048000,
      "rowLimit": 10000
     },
     "inputWidgets": {},
     "nuid": "f19e1205-0e12-4e2b-8fea-8bb086c2ccd6",
     "showTitle": false,
     "tableResultSettingsMap": {},
     "title": ""
    }
   },
   "outputs": [],
   "source": [
    "# Diverted requests for other_referral SA\n",
    "df_diverted_other_referral_sa = df_raw_sa.where(\n",
    "    (F.col(\"EROC_DerMonth\") > '2022-03-01') & \n",
    "    (F.col(\"Acute_Status\") == \"Acute\") & \n",
    "    (F.col(\"EROC_DerStatus\") != 2) & \n",
    "    (F.col(\"EROC_DerOutcome\").isin(10, 12)) & \n",
    "    (F.col(\"EROC_DerTypeOfSpecialistAdvice\") == 99)\n",
    ")\n",
    "\n",
    "df_diverted_other_referral_sa = df_diverted_other_referral_sa.groupby(\n",
    "    \"EROC_DerMonth\",\n",
    "    \"RESP_Org_Code\",\n",
    "    \"RESP_Org_Name\"\n",
    ").agg(F.sum(\"EROC_Requests\").alias(\"Requests\")).orderBy(\n",
    "    \"EROC_DerMonth\",\n",
    "    \"RESP_Org_Code\"\n",
    ")\n",
    "\n",
    "# Select only the columns you need\n",
    "df_diverted_other_referral_sa = df_diverted_other_referral_sa.select(\n",
    "    \"EROC_DerMonth\",\n",
    "    \"RESP_Org_Code\",\n",
    "    \"RESP_Org_Name\",\n",
    "    \"Requests\"\n",
    ")\n",
    "\n",
    "# Get all unique RESP_Org_Code and RESP_Org_Name with Acute_Status == Acute\n",
    "df_all_orgs = df_raw_sa.where(F.col(\"Acute_Status\") == \"Acute\").select(\"RESP_Org_Code\", \"RESP_Org_Name\").distinct()\n",
    "\n",
    "# Join to ensure all RESP_Org_Code are included\n",
    "df_diverted_other_referral_sa = df_all_orgs.join(\n",
    "    df_diverted_other_referral_sa,\n",
    "    on=[\"RESP_Org_Code\", \"RESP_Org_Name\"],\n",
    "    how=\"left\"\n",
    ").fillna(0, subset=[\"Requests\"])\n",
    "\n",
    "# putting the data in pivot table format\n",
    "df_diverted_other_referral_sa_pivot = (df_diverted_other_referral_sa\n",
    "    .groupby(\n",
    "        \"RESP_Org_Code\",\n",
    "        \"RESP_Org_Name\",\n",
    "    )\n",
    "    .pivot(\"EROC_DerMonth\")\n",
    "    .agg(F.sum(\"Requests\"))\n",
    "    .orderBy(\n",
    "        \"RESP_Org_Code\",\n",
    "        \"RESP_Org_Name\",\n",
    "    )\n",
    "    .withColumnRenamed(\"RESP_Org_Code\", \"Provider Code\")\n",
    "    .withColumnRenamed(\"RESP_Org_Name\", \"Provider Name\")\n",
    ")\n",
    "\n",
    "#display(df_diverted_other_referral_sa_pivot)"
   ]
  }
 ],
 "metadata": {
  "application/vnd.databricks.v1+notebook": {
   "computePreferences": null,
   "dashboards": [],
   "environmentMetadata": {
    "base_environment": "",
    "environment_version": "2"
   },
   "inputWidgetPreferences": null,
   "language": "python",
   "notebookMetadata": {
    "pythonIndentUnit": 4
   },
   "notebookName": "SA activity by Provider",
   "widgets": {}
  },
  "language_info": {
   "name": "python"
  }
 },
 "nbformat": 4,
 "nbformat_minor": 0
}
