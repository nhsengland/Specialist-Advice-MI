{
 "cells": [
  {
   "cell_type": "code",
   "execution_count": 0,
   "metadata": {
    "application/vnd.databricks.v1+cell": {
     "cellMetadata": {
      "byteLimit": 2048000,
      "rowLimit": 10000
     },
     "inputWidgets": {},
     "nuid": "19ab3779-c983-4a16-bb8a-e549fa11cf3c",
     "showTitle": false,
     "tableResultSettingsMap": {},
     "title": ""
    }
   },
   "outputs": [],
   "source": [
    "#importing the tools\n",
    "from env import env\n",
    "from src import utils, excel\n",
    "\n",
    "import openpyxl\n",
    "import pandas as pd\n",
    "\n",
    "from pyspark.sql import functions as F\n",
    "from datetime import datetime\n",
    "from pyspark.sql.functions import date_format\n",
    "from openpyxl.styles import NamedStyle"
   ]
  },
  {
   "cell_type": "code",
   "execution_count": 0,
   "metadata": {
    "application/vnd.databricks.v1+cell": {
     "cellMetadata": {
      "byteLimit": 2048000,
      "rowLimit": 10000
     },
     "inputWidgets": {},
     "nuid": "6fa3af65-6fb8-43cf-a851-ddd7e4692eb9",
     "showTitle": false,
     "tableResultSettingsMap": {},
     "title": ""
    }
   },
   "outputs": [],
   "source": [
    "df_raw_sa_csv = spark.read.option(\"header\",\"true\").option(\"recursiveFileLookup\",\"true\").parquet(env[\"spec_advi_path\"])\n",
    "\n",
    "display(df_raw_sa_csv)"
   ]
  },
  {
   "cell_type": "code",
   "execution_count": 0,
   "metadata": {
    "application/vnd.databricks.v1+cell": {
     "cellMetadata": {
      "byteLimit": 2048000,
      "rowLimit": 10000
     },
     "inputWidgets": {},
     "nuid": "72469023-3901-495e-8316-3a33d65077f5",
     "showTitle": false,
     "tableResultSettingsMap": {},
     "title": ""
    }
   },
   "outputs": [],
   "source": [
    "#Provider specialist advice activity full dataset from April 2022\n",
    "\n",
    "df_provider_spec_adv_csv = (df_raw_sa_csv\n",
    "    .select (\n",
    "        \"EROC_DerMonth\",\n",
    "        \"RESP_Org_Code\",\n",
    "        \"RESP_Org_Name\",\n",
    "        \"Metric_Diverted_Requests\",\n",
    "        \"Metric_Processed_Requests\",\n",
    "        \"In_scope_of_ERF\",\n",
    "        \"EROC_TypeOfSpecialistAdvice_Desc\",\n",
    "        \"EROC_Requests\")\n",
    ")\n",
    "\n",
    "# Save as CSV\n",
    "df_provider_spec_adv_csv.coalesce(1).write.option(\"header\", \"true\").mode(\"overwrite\").csv('/dbfs/Outputs/SA_MI_provider.csv')\n",
    "\n",
    "# ICB specialist advice full dataset from April 2022\n",
    "\n",
    "df_ICB_spec_adv_csv = (df_raw_sa_csv\n",
    "    .select (\n",
    "        \"EROC_DerMonth\",\n",
    "        \"EROC_STP_Code\",\n",
    "        \"EROC_STP_Name\",\n",
    "        \"Metric_Diverted_Requests\",\n",
    "        \"Metric_Processed_Requests\",\n",
    "        \"In_scope_of_ERF\",\n",
    "        \"EROC_TypeOfSpecialistAdvice_Desc\",\n",
    "        \"EROC_Requests\")\n",
    ")\n",
    "\n",
    "# Save as CSV\n",
    "df_ICB_spec_adv_csv.coalesce(1).write.option(\"header\", \"true\").mode(\"overwrite\").csv('/dbfs/Outputs/SA_MI_ICB.csv')"
   ]
  },
  {
   "cell_type": "code",
   "execution_count": 0,
   "metadata": {
    "application/vnd.databricks.v1+cell": {
     "cellMetadata": {},
     "inputWidgets": {},
     "nuid": "930a8d92-3c43-4db6-8b82-f0ed92bc4ae8",
     "showTitle": false,
     "tableResultSettingsMap": {},
     "title": ""
    }
   },
   "outputs": [],
   "source": [
    "#this is a test"
   ]
  }
 ],
 "metadata": {
  "application/vnd.databricks.v1+notebook": {
   "computePreferences": null,
   "dashboards": [],
   "environmentMetadata": {
    "base_environment": "",
    "environment_version": "2"
   },
   "inputWidgetPreferences": null,
   "language": "python",
   "notebookMetadata": {
    "pythonIndentUnit": 4
   },
   "notebookName": "CSV files",
   "widgets": {}
  },
  "language_info": {
   "name": "python"
  }
 },
 "nbformat": 4,
 "nbformat_minor": 0
}
