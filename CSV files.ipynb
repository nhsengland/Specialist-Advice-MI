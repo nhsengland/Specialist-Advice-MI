{
 "cells": [
  {
   "cell_type": "code",
   "execution_count": 0,
   "metadata": {
    "application/vnd.databricks.v1+cell": {
     "cellMetadata": {
      "byteLimit": 2048000,
      "rowLimit": 10000
     },
     "inputWidgets": {},
     "nuid": "19ab3779-c983-4a16-bb8a-e549fa11cf3c",
     "showTitle": false,
     "tableResultSettingsMap": {},
     "title": ""
    }
   },
   "outputs": [],
   "source": [
    "#importing the tools\n",
    "from env import env\n",
    "from src import utils, excel\n",
    "\n",
    "import openpyxl\n",
    "import pandas as pd\n",
    "\n",
    "from pyspark.sql import functions as F\n",
    "from datetime import datetime\n",
    "from pyspark.sql.functions import date_format\n",
    "from openpyxl.styles import NamedStyle"
   ]
  },
  {
   "cell_type": "code",
   "execution_count": 0,
   "metadata": {
    "application/vnd.databricks.v1+cell": {
     "cellMetadata": {
      "byteLimit": 2048000,
      "rowLimit": 10000
     },
     "inputWidgets": {},
     "nuid": "6fa3af65-6fb8-43cf-a851-ddd7e4692eb9",
     "showTitle": false,
     "tableResultSettingsMap": {},
     "title": ""
    }
   },
   "outputs": [],
   "source": [
    "df_raw_sa_csv = spark.read.option(\"header\",\"true\").option(\"recursiveFileLookup\",\"true\").parquet(env[\"spec_advi_path\"])\n",
    "\n",
    "display(df_raw_sa_csv)\n",
    "rows = df_raw_sa_csv.count()\n",
    "print(rows)"
   ]
  },
  {
   "cell_type": "code",
   "execution_count": 0,
   "metadata": {
    "application/vnd.databricks.v1+cell": {
     "cellMetadata": {
      "byteLimit": 2048000,
      "rowLimit": 10000
     },
     "inputWidgets": {},
     "nuid": "72469023-3901-495e-8316-3a33d65077f5",
     "showTitle": false,
     "tableResultSettingsMap": {},
     "title": ""
    }
   },
   "outputs": [],
   "source": [
    "#Provider specialist advice activity full dataset from April 2022\n",
    "\n",
    "df_provider_spec_adv_csv = (df_raw_sa_csv\n",
    "    .select (\n",
    "        \"EROC_DerMonth\",\n",
    "        \"RESP_Org_Code\",\n",
    "        \"RESP_Org_Name\",\n",
    "        \"Metric_Diverted_Requests\",\n",
    "        \"Metric_Processed_Requests\",\n",
    "        \"In_scope_of_ERF\",\n",
    "        \"EROC_TypeOfSpecialistAdvice_Desc\",\n",
    "        \"EROC_Requests\",\n",
    "        \"Acute_Status\")\n",
    "    .where (F.col(\"EROC_DerMonth\") >= '2022-04-01')\n",
    "    .where (F.col(\"Acute_Status\") == 'Acute')\n",
    ")\n",
    "\n",
    "df_provider_spec_adv_agg = (\n",
    "    df_provider_spec_adv_csv.groupBy(\n",
    "    \"EROC_DerMonth\",\n",
    "    \"RESP_Org_Code\",\n",
    "    \"EROC_TypeOfSpecialistAdvice_Desc\",\n",
    "    \"Metric_Diverted_Requests\",\n",
    "    \"Metric_Processed_Requests\",\n",
    "    \"In_scope_of_ERF\")\n",
    ".   agg(F.sum(\"EROC_Requests\")))\n",
    "\n",
    "display(df_provider_spec_adv_agg)\n",
    "rows = df_provider_spec_adv_agg.count() \n",
    "print(rows)\n",
    "\n",
    "# Save as CSV\n",
    "df_provider_spec_adv_agg_pd = df_provider_spec_adv_agg.toPandas()\n",
    "df_provider_spec_adv_agg_pd.to_csv('Outputs/SA_MI_Provider.csv', index=False)\n",
    "\n",
    "\n",
    "# ICB specialist advice full dataset from April 2022\n",
    "\n",
    "df_ICB_spec_adv_csv = (df_raw_sa_csv\n",
    "    .select (\n",
    "        \"EROC_DerMonth\",\n",
    "        \"EROC_STP_Code\",\n",
    "        \"EROC_STP_Name\",\n",
    "        \"Metric_Diverted_Requests\",\n",
    "        \"Metric_Processed_Requests\",\n",
    "        \"In_scope_of_ERF\",\n",
    "        \"EROC_TypeOfSpecialistAdvice_Desc\",\n",
    "        \"EROC_Requests\")\n",
    "    .where (F.col(\"EROC_DerMonth\") >= '2022-04-01')\n",
    ")\n",
    "\n",
    "df_ICB_spec_adv_csv_agg = (df_raw_sa_csv.groupBy(\n",
    "    \"EROC_DerMonth\",\n",
    "    \"EROC_STP_Code\",\n",
    "    \"EROC_STP_Name\",\n",
    "    \"Metric_Diverted_Requests\",\n",
    "    \"Metric_Processed_Requests\",\n",
    "    \"In_scope_of_ERF\",\n",
    "    \"EROC_TypeOfSpecialistAdvice_Desc\")\n",
    ".   agg(F.sum(\"EROC_Requests\"))\n",
    "    )\n",
    "display(df_ICB_spec_adv_csv)    \n",
    "\n",
    "# Save as CSV\n",
    "df_ICB_spec_adv_csv_pd = df_ICB_spec_adv_csv_agg.toPandas()\n",
    "df_ICB_spec_adv_csv_pd.to_csv('Outputs/SA_MI_ICB.csv', index=False)"
   ]
  },
  {
   "cell_type": "code",
   "execution_count": 0,
   "metadata": {
    "application/vnd.databricks.v1+cell": {
     "cellMetadata": {
      "byteLimit": 2048000,
      "rowLimit": 10000
     },
     "inputWidgets": {},
     "nuid": "df85d311-1d10-4cc8-8c46-2aa99ea48baf",
     "showTitle": false,
     "tableResultSettingsMap": {},
     "title": ""
    }
   },
   "outputs": [],
   "source": [
    "df_provider_spec_adv_csv = (df_raw_sa_csv.filter(F.col(\"EROC_DerMonth\") >= '2022-04-01'))\n",
    "rows = df_provider_spec_adv_csv.count()\n",
    "print(rows)"
   ]
  },
  {
   "cell_type": "code",
   "execution_count": 0,
   "metadata": {
    "application/vnd.databricks.v1+cell": {
     "cellMetadata": {
      "byteLimit": 2048000,
      "rowLimit": 10000
     },
     "inputWidgets": {},
     "nuid": "930a8d92-3c43-4db6-8b82-f0ed92bc4ae8",
     "showTitle": false,
     "tableResultSettingsMap": {},
     "title": ""
    }
   },
   "outputs": [],
   "source": [
    "#this is a test"
   ]
  }
 ],
 "metadata": {
  "application/vnd.databricks.v1+notebook": {
   "computePreferences": null,
   "dashboards": [],
   "environmentMetadata": {
    "base_environment": "",
    "environment_version": "2"
   },
   "inputWidgetPreferences": null,
   "language": "python",
   "notebookMetadata": {
    "pythonIndentUnit": 4
   },
   "notebookName": "CSV files",
   "widgets": {}
  },
  "language_info": {
   "name": "python"
  }
 },
 "nbformat": 4,
 "nbformat_minor": 0
}
