{
 "cells": [
  {
   "cell_type": "code",
   "execution_count": 0,
   "metadata": {
    "application/vnd.databricks.v1+cell": {
     "cellMetadata": {
      "byteLimit": 2048000,
      "rowLimit": 10000
     },
     "inputWidgets": {},
     "nuid": "707fde48-34db-4f70-bfba-cd2d4dc98307",
     "showTitle": false,
     "tableResultSettingsMap": {},
     "title": ""
    }
   },
   "outputs": [],
   "source": [
    "#importing the tools\n",
    "from env import env\n",
    "from src import utils, excel\n",
    "\n",
    "import openpyxl\n",
    "import pandas as pd\n",
    "\n",
    "from pyspark.sql import functions as F\n",
    "from datetime import datetime\n",
    "from pyspark.sql.functions import date_format\n",
    "from openpyxl.styles import NamedStyle\n"
   ]
  },
  {
   "cell_type": "code",
   "execution_count": 0,
   "metadata": {
    "application/vnd.databricks.v1+cell": {
     "cellMetadata": {
      "byteLimit": 2048000,
      "rowLimit": 10000
     },
     "inputWidgets": {},
     "nuid": "667ae641-955b-44a7-bbdc-3380a5d8fc6f",
     "showTitle": false,
     "tableResultSettingsMap": {},
     "title": ""
    }
   },
   "outputs": [],
   "source": [
    "#reading in the data\n",
    "df_raw_sa_csv = spark.read.option(\"header\",\"true\").option(\"recursiveFileLookup\",\"true\").parquet(env[\"spec_advi_path\"])"
   ]
  },
  {
   "cell_type": "code",
   "execution_count": 0,
   "metadata": {
    "application/vnd.databricks.v1+cell": {
     "cellMetadata": {
      "byteLimit": 2048000,
      "rowLimit": 10000
     },
     "inputWidgets": {},
     "nuid": "d215b0c6-a181-4eef-9e0a-0564dcb7b4bd",
     "showTitle": false,
     "tableResultSettingsMap": {},
     "title": ""
    }
   },
   "outputs": [],
   "source": [
    "df_provider_spec_adv_csv = (df_raw_sa_csv\n",
    "    .select (\n",
    "        \"EROC_DerMonth\",\n",
    "        \"RESP_Org_Code\",\n",
    "        \"RESP_Org_Name\",\n",
    "        \"Metric_Diverted_Requests\",\n",
    "        \"Metric_Processed_Requests\",\n",
    "        \"In_scope_of_ERF\",\n",
    "        \"EROC_TypeOfSpecialistAdvice_Desc\",\n",
    "        \"EROC_Requests\",\n",
    "        \"Acute_Status\")\n",
    "    .where (F.col(\"EROC_DerMonth\") >= '2022-04-01')\n",
    "    .where (F.col(\"Acute_Status\") == 'Acute')\n",
    "    .withColumnRenamed(\"EROC_DerMonth\", \"Activity Month\")\n",
    "    .withColumnRenamed(\"RESP_Org_Code\", \"Provider Code\")\n",
    "    .withColumnRenamed(\"RESP_Org_Name\", \"Provider Name\")\n",
    "    .withColumnRenamed(\"Metric_Diverted_Requests\", \"Diverted Requests\")\n",
    "    .withColumnRenamed(\"Metric_Processed_Requests\", \"Processed Requests\")\n",
    "    .withColumnRenamed(\"In_scope_of_ERF\", \"In scope of ERF?\")\n",
    "    .withColumnRenamed(\"EROC_TypeOfSpecialistAdvice_Desc\", \"Type of Specialist Advice\")\n",
    "    .withColumnRenamed(\"EROC_Requests\", \"Requests\")\n",
    "    .withColumnRenamed(\"Acute_Status\", \"Acute Status\")\n",
    ")\n",
    " \n",
    "df_provider_spec_adv_agg = (\n",
    "    df_provider_spec_adv_csv.groupBy(\n",
    "    \"Activity Month\",\n",
    "    \"Provider Code\",\n",
    "    \"Provider Name\",\n",
    "    \"Type of Specialist Advice\",\n",
    "    \"Diverted Requests\",\n",
    "    \"Processed Requests\",\n",
    "    \"In scope of ERF?\",)\n",
    ".   agg(F.sum(\"Requests\").alias(\"Requests\"))\n",
    ".   orderBy(\"Provider Code\", \"Type of Specialist Advice\", \"Activity Month\"))\n",
    " \n",
    "display(df_provider_spec_adv_agg)\n",
    "rows = df_provider_spec_adv_agg.count()\n",
    "print(rows)\n",
    " \n",
    "# Save as CSV\n",
    "df_provider_spec_adv_agg_pd = df_provider_spec_adv_agg.toPandas()\n",
    "df_provider_spec_adv_agg_pd.to_csv('Outputs/Provider specialist advice activity full dataset from April 2022.csv', index=False)\n",
    " \n",
    " \n",
    "# ICB specialist advice full dataset from April 2022\n",
    " \n",
    "df_ICB_spec_adv_csv = (df_raw_sa_csv\n",
    "    .select (\n",
    "        \"EROC_DerMonth\",\n",
    "        \"EROC_STP_Code\",\n",
    "        \"EROC_STP_Name\",\n",
    "        \"Metric_Diverted_Requests\",\n",
    "        \"Metric_Processed_Requests\",\n",
    "        \"In_scope_of_ERF\",\n",
    "        \"EROC_TypeOfSpecialistAdvice_Desc\",\n",
    "        \"EROC_Requests\")\n",
    "    .where (F.col(\"EROC_DerMonth\") >= '2022-04-01')\n",
    "    .withColumnRenamed(\"EROC_DerMonth\", \"Activity Month\")\n",
    "    .withColumnRenamed(\"EROC_STP_Code\", \"ICB Code\")\n",
    "    .withColumnRenamed(\"EROC_STP_Name\", \"ICB Name\")\n",
    "    .withColumnRenamed(\"Metric_Diverted_Requests\", \"Diverted Requests\")\n",
    "    .withColumnRenamed(\"Metric_Processed_Requests\", \"Processed Requests\")\n",
    "    .withColumnRenamed(\"In_scope_of_ERF\", \"In scope of ERF?\")\n",
    "    .withColumnRenamed(\"EROC_TypeOfSpecialistAdvice_Desc\", \"Type of Specialist Advice\")\n",
    "    .withColumnRenamed(\"EROC_Requests\", \"Requests\")\n",
    ")\n",
    " \n",
    "df_ICB_spec_adv_csv_agg = (df_ICB_spec_adv_csv.groupBy(\n",
    "    \"Activity Month\",\n",
    "    \"ICB Code\",\n",
    "    \"ICB Name\",\n",
    "    \"Diverted Requests\",\n",
    "    \"Processed Requests\",\n",
    "    \"In scope of ERF?\",\n",
    "    \"Type of Specialist Advice\",)\n",
    ".   agg(F.sum(\"Requests\").alias(\"Requests\"))\n",
    ". orderBy(\"ICB Code\", \"Type of Specialist Advice\", \"Activity Month\")\n",
    "    )\n",
    "display(df_ICB_spec_adv_csv)    \n",
    " \n",
    "# Save as CSV\n",
    "df_ICB_spec_adv_csv_pd = df_ICB_spec_adv_csv_agg.toPandas()\n",
    "df_ICB_spec_adv_csv_pd.to_csv('Outputs/ICB specialist advice activity full dataset from April 2022.csv', index=False)"
   ]
  }
 ],
 "metadata": {
  "application/vnd.databricks.v1+notebook": {
   "computePreferences": null,
   "dashboards": [],
   "environmentMetadata": {
    "base_environment": "",
    "environment_version": "2"
   },
   "inputWidgetPreferences": null,
   "language": "python",
   "notebookMetadata": {
    "pythonIndentUnit": 4
   },
   "notebookName": "CSV files",
   "widgets": {}
  },
  "language_info": {
   "name": "python"
  }
 },
 "nbformat": 4,
 "nbformat_minor": 0
}
